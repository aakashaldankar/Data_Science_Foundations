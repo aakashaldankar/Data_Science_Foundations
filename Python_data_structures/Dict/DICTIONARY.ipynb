{
 "cells": [
  {
   "cell_type": "markdown",
   "id": "3dac1697-90fe-46d2-93cd-cf046a95508a",
   "metadata": {},
   "source": [
    "DICTIONARY PROPERTIES\n",
    "1. ORDERED\n",
    "2. MUTABLE \n",
    "3. ITERABLE\n",
    "4. CAN CONTAIN HETEROGENEOUS DATA TYPES"
   ]
  },
  {
   "cell_type": "code",
   "execution_count": 1,
   "id": "4fd57c44-01a6-4850-8879-8e3937a9bbf8",
   "metadata": {},
   "outputs": [
    {
     "name": "stdout",
     "output_type": "stream",
     "text": [
      " type(dict1):  <class 'dict'> {} \n",
      " type(dict2):  <class 'dict'> {5: 'Hyderabad', 6: 'Loves', 7: 'To', 8: 'Eat', 9: 'VadaPav'} \n",
      " type(dict3):  <class 'dict'> {1: None, 2: None, 3: None, 4: None}\n"
     ]
    }
   ],
   "source": [
    "# dictionary definition ways\n",
    "\n",
    "dict1=dict()  # empty dictionary\n",
    "\n",
    "dict2={5:'Hyderabad',6:'Loves',7:'To',8:'Eat',9:'VadaPav'}\n",
    "\n",
    "list1=[1,2,3,4]\n",
    "dict3=dict.fromkeys(list1)   # returns a dictionary having keys from an iterable having None as values.If None is not needed then second argument\n",
    "                            # contain a value must be given as .fromkeys(list1,y)\n",
    "\n",
    "print(' type(dict1): ',type(dict1), dict1 ,'\\n type(dict2): ', type(dict2),dict2, '\\n type(dict3): ', type(dict3), dict3)"
   ]
  },
  {
   "cell_type": "markdown",
   "id": "2855440c-3563-4bc3-8439-03abf4bea6d2",
   "metadata": {},
   "source": [
    "Dictionaries are indexed by keys. Keys must be immutable(integers, strings, tuple) type. Keys must also be unique.\n",
    "\n",
    "del can be used to delete a key value pair from the dictionary. \n",
    "\n",
    "list(dict) returns keys of the dictionary in list.\n",
    "\n",
    "To check whether a single key is in the dictionary use 'in' keyword."
   ]
  },
  {
   "cell_type": "code",
   "execution_count": 4,
   "id": "45629a59-d045-4d5b-bb6b-03a120da9f7e",
   "metadata": {},
   "outputs": [
    {
     "data": {
      "text/plain": [
       "{5: 'Hyderabad', 6: 'Loves', 8: 'Eat', 9: 'VadaPav'}"
      ]
     },
     "execution_count": 4,
     "metadata": {},
     "output_type": "execute_result"
    }
   ],
   "source": [
    "# del is used to delete a key-value pair from the dict\n",
    "\n",
    "del dict2[7]\n",
    "dict2"
   ]
  },
  {
   "cell_type": "code",
   "execution_count": 6,
   "id": "3daa2dfe-a88e-4859-ad37-49cc056ea7c8",
   "metadata": {},
   "outputs": [
    {
     "data": {
      "text/plain": [
       "'Hyderabad'"
      ]
     },
     "execution_count": 6,
     "metadata": {},
     "output_type": "execute_result"
    }
   ],
   "source": [
    "# To get a value for a given key\n",
    "\n",
    "dict2.get(5, 'If that value is not present then return this')"
   ]
  },
  {
   "cell_type": "code",
   "execution_count": 8,
   "id": "856fb04b-c1df-4683-826a-d0a21c35ae3c",
   "metadata": {},
   "outputs": [
    {
     "data": {
      "text/plain": [
       "dict_items([(5, 'Hyderabad'), (6, 'Loves'), (8, 'Eat'), (9, 'VadaPav')])"
      ]
     },
     "execution_count": 8,
     "metadata": {},
     "output_type": "execute_result"
    }
   ],
   "source": [
    "# items method is used to get the keys and values of the dictionary\n",
    "\n",
    "dict2.items()"
   ]
  },
  {
   "cell_type": "code",
   "execution_count": 10,
   "id": "fddb50d6-1b15-460e-bb3c-c0f02729b02c",
   "metadata": {},
   "outputs": [
    {
     "data": {
      "text/plain": [
       "dict_keys([5, 6, 8, 9])"
      ]
     },
     "execution_count": 10,
     "metadata": {},
     "output_type": "execute_result"
    }
   ],
   "source": [
    "# keys method is used to get the keys from the dictionary.\n",
    "\n",
    "dict2.keys()"
   ]
  },
  {
   "cell_type": "code",
   "execution_count": 12,
   "id": "f4d7c65b-f8c9-41a6-9e1a-625e2028ab2f",
   "metadata": {},
   "outputs": [
    {
     "data": {
      "text/plain": [
       "{6: 'Loves', 8: 'Eat', 9: 'VadaPav'}"
      ]
     },
     "execution_count": 12,
     "metadata": {},
     "output_type": "execute_result"
    }
   ],
   "source": [
    "# pop method is used to remove a key value pair from the dictionary\n",
    "\n",
    "dict2.pop(5)\n",
    "dict2"
   ]
  },
  {
   "cell_type": "code",
   "execution_count": 14,
   "id": "7b68c33a-6880-4751-b220-4bc1b210146a",
   "metadata": {},
   "outputs": [
    {
     "data": {
      "text/plain": [
       "{6: 'Loves', 8: 'Eat'}"
      ]
     },
     "execution_count": 14,
     "metadata": {},
     "output_type": "execute_result"
    }
   ],
   "source": [
    "# popitem method\n",
    "\n",
    "dict2.popitem()\n",
    "dict2"
   ]
  },
  {
   "cell_type": "markdown",
   "id": "30ccc3bc-5297-464f-ad85-6f2078b14324",
   "metadata": {},
   "source": [
    "popitem() method removes the last pair of the key-value."
   ]
  },
  {
   "cell_type": "code",
   "execution_count": 17,
   "id": "48690b04-2a2b-4ada-b7ab-ff5420cc2303",
   "metadata": {},
   "outputs": [
    {
     "data": {
      "text/plain": [
       "{6: 'Loves', 8: 'Eat', 7: 'Dance', 9: 'Computer'}"
      ]
     },
     "execution_count": 17,
     "metadata": {},
     "output_type": "execute_result"
    }
   ],
   "source": [
    "# update method\n",
    "\n",
    "dict2.update({7:'Dance',9:'Computer'})\n",
    "dict2"
   ]
  },
  {
   "cell_type": "markdown",
   "id": "fde5b2c3-d056-44e7-9486-866c90243174",
   "metadata": {},
   "source": [
    "update method is used to add key-value pair as shown above. "
   ]
  },
  {
   "cell_type": "code",
   "execution_count": 20,
   "id": "1ae08dd4-f672-4d3c-b6c6-bdc0b48e865f",
   "metadata": {},
   "outputs": [
    {
     "data": {
      "text/plain": [
       "dict_values(['Loves', 'Eat', 'Dance', 'Computer'])"
      ]
     },
     "execution_count": 20,
     "metadata": {},
     "output_type": "execute_result"
    }
   ],
   "source": [
    "# values method is used to display all the values of keys in a dictionary\n",
    "\n",
    "dict2.values()"
   ]
  },
  {
   "cell_type": "code",
   "execution_count": 22,
   "id": "de1039a1-bf5d-4d72-9e79-a03808c911aa",
   "metadata": {},
   "outputs": [
    {
     "data": {
      "text/plain": [
       "{6: 'Loves', 8: 'Eat', 7: 'Dance', 9: 'Computer'}"
      ]
     },
     "execution_count": 22,
     "metadata": {},
     "output_type": "execute_result"
    }
   ],
   "source": [
    "# setdefault method\n",
    "\n",
    "dict2.setdefault(6,'If the value is absent or this key does not exist then update the dict with this as a key')\n",
    "dict2"
   ]
  },
  {
   "cell_type": "code",
   "execution_count": 24,
   "id": "a9874e64-7f02-47a9-8d7e-4236a0e0853a",
   "metadata": {},
   "outputs": [
    {
     "data": {
      "text/plain": [
       "{6: 'Loves', 8: 'Eat', 7: 'Dance', 9: 'Computer', 10: 'UK'}"
      ]
     },
     "execution_count": 24,
     "metadata": {},
     "output_type": "execute_result"
    }
   ],
   "source": [
    "dict2.setdefault(10, 'UK')\n",
    "dict2"
   ]
  },
  {
   "cell_type": "markdown",
   "id": "26b40599-98b6-4b9d-98b5-b07a196860d0",
   "metadata": {},
   "source": [
    "Here in second example we see that, key 10 was not there in the dictionary, so the setdefault method assigned 10:'UK' as a new key-value pair to \n",
    "the dictionary.\n",
    "If a value for this key would have been existed then it would'nt have changed the value for 10."
   ]
  },
  {
   "cell_type": "code",
   "execution_count": null,
   "id": "4c613ae8-b39a-48f3-9ced-2a772254326a",
   "metadata": {},
   "outputs": [],
   "source": []
  },
  {
   "cell_type": "markdown",
   "id": "ba7227a8-802e-4f7a-8254-7b79543af3d4",
   "metadata": {},
   "source": [
    "DICTIONARY COMPREHENSION"
   ]
  },
  {
   "cell_type": "code",
   "execution_count": 29,
   "id": "379af95c-d5ad-4c08-8173-6d3991f03723",
   "metadata": {},
   "outputs": [
    {
     "data": {
      "text/plain": [
       "{0: 0, 1: 1, 2: 4, 3: 9, 4: 16, 5: 25, 6: 36, 7: 49, 8: 64, 9: 81}"
      ]
     },
     "execution_count": 29,
     "metadata": {},
     "output_type": "execute_result"
    }
   ],
   "source": [
    "dict4={x:x**2 for x in range(10)}\n",
    "dict4"
   ]
  }
 ],
 "metadata": {
  "kernelspec": {
   "display_name": "Python 3 (ipykernel)",
   "language": "python",
   "name": "python3"
  },
  "language_info": {
   "codemirror_mode": {
    "name": "ipython",
    "version": 3
   },
   "file_extension": ".py",
   "mimetype": "text/x-python",
   "name": "python",
   "nbconvert_exporter": "python",
   "pygments_lexer": "ipython3",
   "version": "3.11.10"
  }
 },
 "nbformat": 4,
 "nbformat_minor": 5
}
