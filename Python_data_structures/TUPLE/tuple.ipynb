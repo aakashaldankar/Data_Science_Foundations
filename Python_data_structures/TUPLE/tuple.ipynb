{
 "cells": [
  {
   "cell_type": "markdown",
   "id": "4cdf2f99-d7dc-4dec-83a2-8238b20d7a8e",
   "metadata": {},
   "source": [
    "TUPLE PROPERTIES\n",
    "1. IMMUTABLE\n",
    "2. ORDERED\n",
    "3. HETEROGENEOUS\n",
    "4. ITERABLE"
   ]
  },
  {
   "cell_type": "code",
   "execution_count": 2,
   "id": "7ebcac24-e08a-4f23-b2fc-7aa70415b86d",
   "metadata": {},
   "outputs": [
    {
     "name": "stdout",
     "output_type": "stream",
     "text": [
      "type of t1:  <class 'tuple'> type of t2: <class 'tuple'>\n"
     ]
    }
   ],
   "source": [
    "t1=(1,4,3,7,9,0,5,6)\n",
    "\n",
    "t2='awari','dance',1,0,2\n",
    "\n",
    "print('type of t1: ', type(t1),'type of t2:',type(t2))"
   ]
  },
  {
   "cell_type": "markdown",
   "id": "f31fb6f8-6681-4c8f-90bf-380ea97fd4d0",
   "metadata": {},
   "source": [
    "A tuple can be defined in two ways as shown above. 1st is using close paranthesis, and 2nd is without any paranthesis."
   ]
  },
  {
   "cell_type": "code",
   "execution_count": 5,
   "id": "382dcbf8-0bed-4712-847f-f963863054c8",
   "metadata": {},
   "outputs": [
    {
     "data": {
      "text/plain": [
       "1"
      ]
     },
     "execution_count": 5,
     "metadata": {},
     "output_type": "execute_result"
    }
   ],
   "source": [
    "# count method\n",
    "\n",
    "t1.count(0)"
   ]
  },
  {
   "cell_type": "markdown",
   "id": "9eb218a7-3fdd-484c-9f5a-1e1a645aae74",
   "metadata": {},
   "source": [
    "count method gives the number of occurences of a value."
   ]
  },
  {
   "cell_type": "code",
   "execution_count": 8,
   "id": "e0d40742-df3e-489e-a831-4982b6a24256",
   "metadata": {},
   "outputs": [
    {
     "data": {
      "text/plain": [
       "2"
      ]
     },
     "execution_count": 8,
     "metadata": {},
     "output_type": "execute_result"
    }
   ],
   "source": [
    "# index method\n",
    "\n",
    "t1.index(3)"
   ]
  },
  {
   "cell_type": "markdown",
   "id": "177da4fd-1a3e-4bde-8fd9-9bc3fc62765f",
   "metadata": {},
   "source": [
    "index method gives the index number of a value. "
   ]
  },
  {
   "cell_type": "code",
   "execution_count": 11,
   "id": "f50cb95f-7ba3-44e7-8d76-1f8e7951253f",
   "metadata": {},
   "outputs": [],
   "source": [
    "t4=()"
   ]
  },
  {
   "cell_type": "markdown",
   "id": "650bfa21-f9be-4520-bc4c-8a608164b57c",
   "metadata": {},
   "source": [
    "The above is used to define an empty tuple."
   ]
  },
  {
   "cell_type": "code",
   "execution_count": 14,
   "id": "f92bf7f7-1e59-4bb2-a146-a6f2b5744263",
   "metadata": {},
   "outputs": [
    {
     "data": {
      "text/plain": [
       "tuple"
      ]
     },
     "execution_count": 14,
     "metadata": {},
     "output_type": "execute_result"
    }
   ],
   "source": [
    "t5=5,\n",
    "\n",
    "type(t5)"
   ]
  },
  {
   "cell_type": "markdown",
   "id": "317e5c7b-cef3-4931-9170-b81d9f4cecd6",
   "metadata": {},
   "source": [
    "The above way is used to define a tuple having a single item."
   ]
  },
  {
   "cell_type": "code",
   "execution_count": 17,
   "id": "05d8a374-e8e2-49fe-9479-06527de56188",
   "metadata": {},
   "outputs": [],
   "source": [
    "# tuple packing \n",
    "\n",
    "t6=('ash','dance',9,8,0,3,'hi','world')"
   ]
  },
  {
   "cell_type": "code",
   "execution_count": 19,
   "id": "107eaf76-8c0b-4378-a946-cab447f15eca",
   "metadata": {},
   "outputs": [
    {
     "name": "stdout",
     "output_type": "stream",
     "text": [
      " v1:  ash \n",
      " v2: dance \n",
      " v3:  9 \n",
      " v4:  8 \n",
      " v5:  0 \n",
      " v6:  3 \n",
      " v7:  hi \n",
      " v8:  world\n"
     ]
    }
   ],
   "source": [
    "# tuple unpacking\n",
    "\n",
    "v1, v2, v3, v4, v5, v6, v7, v8 = t6\n",
    "\n",
    "print(' v1: ',v1,'\\n v2:', v2,'\\n v3: ',v3,'\\n v4: ',v4,'\\n v5: ', v5,'\\n v6: ',v6,'\\n v7: ',v7, '\\n v8: ',v8)"
   ]
  },
  {
   "cell_type": "markdown",
   "id": "40d736d7-56c4-42fa-b9e5-b7ce3fe3674b",
   "metadata": {},
   "source": [
    "Unpacking requires the equal number of variables on the left side of equal sign as the length of the tuple/any literal. "
   ]
  }
 ],
 "metadata": {
  "kernelspec": {
   "display_name": "Python 3 (ipykernel)",
   "language": "python",
   "name": "python3"
  },
  "language_info": {
   "codemirror_mode": {
    "name": "ipython",
    "version": 3
   },
   "file_extension": ".py",
   "mimetype": "text/x-python",
   "name": "python",
   "nbconvert_exporter": "python",
   "pygments_lexer": "ipython3",
   "version": "3.11.10"
  }
 },
 "nbformat": 4,
 "nbformat_minor": 5
}
