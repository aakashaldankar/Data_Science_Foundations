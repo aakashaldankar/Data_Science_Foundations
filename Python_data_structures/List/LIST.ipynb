{
 "cells": [
  {
   "cell_type": "markdown",
   "id": "efaf1f82-1dcd-4fc0-aaec-a4257b20d38b",
   "metadata": {},
   "source": [
    "LIST"
   ]
  },
  {
   "cell_type": "markdown",
   "id": "e8dc4a5a-2ac8-4c7c-9733-b66f59fbefbb",
   "metadata": {},
   "source": [
    "PROPERTIES OF A LIST:\n",
    "1. ORDERED: Data stored in a list are charactersed by an index value.\n",
    "2. MUTABLE: The data stored in a list can be modified.  \n",
    "3. HOLD ITMES OF ANY DATA TYPE: Can contain int, str, sets, tuples, dict, etc\n",
    "4. ITERABLE: All data values can be accessed once in a go."
   ]
  },
  {
   "cell_type": "code",
   "execution_count": 5,
   "id": "1d8b8ab1-1353-4ca4-aaac-49c8a0f7179e",
   "metadata": {},
   "outputs": [],
   "source": [
    "List=[1, 3, 8, 2, 3, 0, 4, 8, 0, 0, 5]"
   ]
  },
  {
   "cell_type": "code",
   "execution_count": 7,
   "id": "6e160f20-ab75-49e4-8573-846719ec6c4c",
   "metadata": {},
   "outputs": [
    {
     "data": {
      "text/plain": [
       "[1, 3, 8, 2, 3, 0, 4, 8, 0, 0, 5, 10]"
      ]
     },
     "execution_count": 7,
     "metadata": {},
     "output_type": "execute_result"
    }
   ],
   "source": [
    "# append\n",
    "List.append(10)\n",
    "List\n",
    "# List.append() takes only one argument, so we can provide a number or a data structure like set, tuple, dict."
   ]
  },
  {
   "cell_type": "code",
   "execution_count": 9,
   "id": "d2047157-261a-4aed-a46f-8d34949062a6",
   "metadata": {},
   "outputs": [
    {
     "data": {
      "text/plain": [
       "[1, 3, 8, 2, 3, 0, 4, 8, 0, 0, 5, 10, 11, 12]"
      ]
     },
     "execution_count": 9,
     "metadata": {},
     "output_type": "execute_result"
    }
   ],
   "source": [
    "# extend\n",
    "List.extend([11,12])\n",
    "List"
   ]
  },
  {
   "cell_type": "markdown",
   "id": "1a6ba823-72bd-42ee-ae12-b4b380c85126",
   "metadata": {},
   "source": [
    "Here we can only give an iterable data structure as an argument. And the list will append the values from that iterable one by one. "
   ]
  },
  {
   "cell_type": "code",
   "execution_count": 12,
   "id": "570943c7-62ca-40ba-8c7c-3616dfecb3b5",
   "metadata": {},
   "outputs": [
    {
     "data": {
      "text/plain": [
       "[13, 1, 3, 8, 2, 3, 0, 4, 8, 0, 0, 5, 10, 11, 12]"
      ]
     },
     "execution_count": 12,
     "metadata": {},
     "output_type": "execute_result"
    }
   ],
   "source": [
    "# insert\n",
    "List.insert(0,13)\n",
    "List"
   ]
  },
  {
   "cell_type": "markdown",
   "id": "a1b31ce5-c21c-4716-af21-d08a8b75e65b",
   "metadata": {},
   "source": [
    "The insert method takes two argument; 0 is the index and 13 is the value that should be inserted at that index. "
   ]
  },
  {
   "cell_type": "code",
   "execution_count": 15,
   "id": "0623cf1f-bb6c-4f45-8618-3ed9582739ce",
   "metadata": {},
   "outputs": [
    {
     "data": {
      "text/plain": [
       "[13, 1, 3, 8, 2, 3, 4, 8, 0, 0, 5, 10, 11, 12]"
      ]
     },
     "execution_count": 15,
     "metadata": {},
     "output_type": "execute_result"
    }
   ],
   "source": [
    "# remove \n",
    "List.remove(0)\n",
    "List"
   ]
  },
  {
   "cell_type": "markdown",
   "id": "7c7a771a-2d8f-4fc3-9f94-2b30cc98ee26",
   "metadata": {},
   "source": [
    "The remove method removes only the first instance of the data value which is provided in the argument. In this list we had 3 zero, and after executing \n",
    "the remove method the first instance of the zero was removed. "
   ]
  },
  {
   "cell_type": "code",
   "execution_count": 18,
   "id": "db26f2a1-4998-471e-91b8-db33b09b7169",
   "metadata": {},
   "outputs": [
    {
     "data": {
      "text/plain": [
       "[13, 1, 8, 2, 3, 4, 8, 0, 0, 5, 10, 11, 12]"
      ]
     },
     "execution_count": 18,
     "metadata": {},
     "output_type": "execute_result"
    }
   ],
   "source": [
    "# pop\n",
    "List.pop(2)\n",
    "List"
   ]
  },
  {
   "cell_type": "markdown",
   "id": "18878170-656c-4e34-a7bf-6704c689ba5f",
   "metadata": {},
   "source": [
    "The pop method takes an index value of the data value which is to be removed from List"
   ]
  },
  {
   "cell_type": "code",
   "execution_count": 21,
   "id": "a2fd9542-ef1a-4ccf-bdf3-ef2ec8ddcf63",
   "metadata": {},
   "outputs": [
    {
     "data": {
      "text/plain": [
       "7"
      ]
     },
     "execution_count": 21,
     "metadata": {},
     "output_type": "execute_result"
    }
   ],
   "source": [
    "# index\n",
    "List.index(0)"
   ]
  },
  {
   "cell_type": "markdown",
   "id": "3ad07846-cf72-4eba-8fd0-5fa995415856",
   "metadata": {},
   "source": [
    "The index method takes a value as an argument and results the index number of that value. But it results only index number of the first instance. "
   ]
  },
  {
   "cell_type": "code",
   "execution_count": 24,
   "id": "a19a793c-b8b9-4528-bdad-6f53ff8e00d4",
   "metadata": {},
   "outputs": [
    {
     "data": {
      "text/plain": [
       "2"
      ]
     },
     "execution_count": 24,
     "metadata": {},
     "output_type": "execute_result"
    }
   ],
   "source": [
    "# count\n",
    "List.count(0)"
   ]
  },
  {
   "cell_type": "markdown",
   "id": "2b140ad4-80c8-4672-9f30-61aeb97d0fd2",
   "metadata": {},
   "source": [
    "This count method returns the number of repetition of a data value in the list. "
   ]
  },
  {
   "cell_type": "code",
   "execution_count": 27,
   "id": "e637885b-adb6-4abf-86da-9c99ac719a8c",
   "metadata": {},
   "outputs": [
    {
     "data": {
      "text/plain": [
       "[0, 0, 1, 2, 3, 4, 5, 8, 8, 10, 11, 12, 13]"
      ]
     },
     "execution_count": 27,
     "metadata": {},
     "output_type": "execute_result"
    }
   ],
   "source": [
    "# sort\n",
    "List.sort(reverse=False)\n",
    "List"
   ]
  },
  {
   "cell_type": "markdown",
   "id": "df63d09d-b141-4fcc-bb12-ec71d15b910a",
   "metadata": {},
   "source": [
    "The sort method sorts the list in ascending order by default, if reverse = True, then sort in descending order. "
   ]
  },
  {
   "cell_type": "code",
   "execution_count": 30,
   "id": "94e26b9b-fbf5-4b55-9dd9-45baeac81636",
   "metadata": {},
   "outputs": [
    {
     "data": {
      "text/plain": [
       "[13, 12, 11, 10, 8, 8, 5, 4, 3, 2, 1, 0, 0]"
      ]
     },
     "execution_count": 30,
     "metadata": {},
     "output_type": "execute_result"
    }
   ],
   "source": [
    "# reverse\n",
    "List.reverse()\n",
    "List"
   ]
  },
  {
   "cell_type": "markdown",
   "id": "7e8777cf-91a1-4301-9cef-12b92b0450f7",
   "metadata": {},
   "source": [
    "reverse method simply reverses the whole list, but does not sorts. The above seems sorted because in earlier line sort method was used."
   ]
  },
  {
   "cell_type": "code",
   "execution_count": 33,
   "id": "1fe62555-e5e2-4ea7-8bcf-7bef92a928df",
   "metadata": {},
   "outputs": [
    {
     "data": {
      "text/plain": [
       "[]"
      ]
     },
     "execution_count": 33,
     "metadata": {},
     "output_type": "execute_result"
    }
   ],
   "source": [
    "# clear\n",
    "List.clear()\n",
    "List"
   ]
  },
  {
   "cell_type": "markdown",
   "id": "6d777215-4d95-4da9-858e-8d456ab6f383",
   "metadata": {},
   "source": [
    "The clear method simply empties the whole list."
   ]
  },
  {
   "cell_type": "raw",
   "id": "98fc39cc-5d4c-43d4-9a61-3ea76c91e3dd",
   "metadata": {},
   "source": []
  },
  {
   "cell_type": "markdown",
   "id": "35f4710f-84e5-4483-8ba0-6cb15fa6ff5d",
   "metadata": {},
   "source": [
    "LIST COMPREHENSIONS"
   ]
  },
  {
   "cell_type": "markdown",
   "id": "b9b4d068-cfbe-4f04-b7bb-500760aab426",
   "metadata": {},
   "source": [
    "List comprehensions provide a concise way to create lists. \n",
    "Common applications are to make new lists where each element is the result of \n",
    "some operations applied to each member of another sequence or iterable, or to create a subsequence of those elements that satisfy a \n",
    "certain condition."
   ]
  },
  {
   "cell_type": "code",
   "execution_count": 38,
   "id": "7ccfe261-55db-4642-a7ff-9d17ba873d7f",
   "metadata": {},
   "outputs": [
    {
     "data": {
      "text/plain": [
       "[11, 24, 56, 0, 1, 2, 3, 4]"
      ]
     },
     "execution_count": 38,
     "metadata": {},
     "output_type": "execute_result"
    }
   ],
   "source": [
    "# List comprehensions using for loop and append\n",
    "\n",
    "list_2=[11,24,56]\n",
    "for i in range(5):\n",
    "    list_2.append(i)\n",
    "\n",
    "list_2"
   ]
  },
  {
   "cell_type": "markdown",
   "id": "8c897917-8dff-42ed-8e55-220b13982d26",
   "metadata": {},
   "source": [
    "Here we see that a current list is appended using a for loop and an append method. This would work even if list_2 would have been an empty list."
   ]
  },
  {
   "cell_type": "code",
   "execution_count": 41,
   "id": "d26e2977-2444-4aa8-bbb5-6cb7b3a16d64",
   "metadata": {},
   "outputs": [
    {
     "data": {
      "text/plain": [
       "[0, 1, 4, 9, 16, 25, 36, 49, 64, 81]"
      ]
     },
     "execution_count": 41,
     "metadata": {},
     "output_type": "execute_result"
    }
   ],
   "source": [
    "# List comprehension using map and lambda\n",
    "\n",
    "list_3=list(map(lambda x : x**2, range(10)))\n",
    "list_3"
   ]
  },
  {
   "cell_type": "markdown",
   "id": "6c2a991b-502f-4469-8e3e-c565172410bc",
   "metadata": {},
   "source": [
    "Here we see that a new list is created using lambda and map function. \n",
    "The map() function is used to apply a given function to every item of an iterable, such as a list or tuple, \n",
    "and returns a map object (which is an iterator)."
   ]
  },
  {
   "cell_type": "code",
   "execution_count": 44,
   "id": "252fe106-1fe2-48dd-a311-317c18371607",
   "metadata": {},
   "outputs": [
    {
     "data": {
      "text/plain": [
       "[0, 1, 4, 9, 16, 25, 36, 49, 64, 81]"
      ]
     },
     "execution_count": 44,
     "metadata": {},
     "output_type": "execute_result"
    }
   ],
   "source": [
    "# list comprehension using a unique way\n",
    "\n",
    "list_4=[x**2 for x in range(10)]\n",
    "list_4"
   ]
  },
  {
   "cell_type": "markdown",
   "id": "4e32870c-16a8-4461-820f-e6152d332d10",
   "metadata": {},
   "source": [
    "Here we see that a new list is created using a for loop as shown above, this is easy to implement and more efficient than the other two. "
   ]
  },
  {
   "cell_type": "code",
   "execution_count": 47,
   "id": "d3def96d-739b-44e3-870d-fe9d68df8ad5",
   "metadata": {},
   "outputs": [
    {
     "data": {
      "text/plain": [
       "[2, 5, 9, 0, 10, 28, 74]"
      ]
     },
     "execution_count": 47,
     "metadata": {},
     "output_type": "execute_result"
    }
   ],
   "source": [
    "# The del statement \n",
    "\n",
    "list_5=[2,5,8,9,0,10,28,74]\n",
    "\n",
    "del list_5[2]\n",
    "list_5"
   ]
  },
  {
   "cell_type": "code",
   "execution_count": 49,
   "id": "bf1ba7da-343d-4c69-b202-5731c2dc11a1",
   "metadata": {},
   "outputs": [
    {
     "data": {
      "text/plain": [
       "[2, 0, 10, 28, 74]"
      ]
     },
     "execution_count": 49,
     "metadata": {},
     "output_type": "execute_result"
    }
   ],
   "source": [
    "del list_5[1:3]\n",
    "list_5"
   ]
  },
  {
   "cell_type": "code",
   "execution_count": 51,
   "id": "a53fbbb7-908b-4e20-a853-4657a98d9be9",
   "metadata": {},
   "outputs": [
    {
     "data": {
      "text/plain": [
       "[]"
      ]
     },
     "execution_count": 51,
     "metadata": {},
     "output_type": "execute_result"
    }
   ],
   "source": [
    "del list_5[:]\n",
    "list_5"
   ]
  },
  {
   "cell_type": "code",
   "execution_count": 53,
   "id": "6a17116f-f8a1-4031-9d98-fec39262be35",
   "metadata": {},
   "outputs": [
    {
     "ename": "NameError",
     "evalue": "name 'list_5' is not defined",
     "output_type": "error",
     "traceback": [
      "\u001b[1;31m---------------------------------------------------------------------------\u001b[0m",
      "\u001b[1;31mNameError\u001b[0m                                 Traceback (most recent call last)",
      "Cell \u001b[1;32mIn[53], line 2\u001b[0m\n\u001b[0;32m      1\u001b[0m \u001b[38;5;28;01mdel\u001b[39;00m list_5\n\u001b[1;32m----> 2\u001b[0m list_5\n",
      "\u001b[1;31mNameError\u001b[0m: name 'list_5' is not defined"
     ]
    }
   ],
   "source": [
    "del list_5\n",
    "list_5"
   ]
  },
  {
   "cell_type": "markdown",
   "id": "3305e042-92ff-4624-82cd-a504bbd4085f",
   "metadata": {},
   "source": [
    "The del statement discards the value from the list given it's index number. del statement can also be used to discard/remove the data values from \n",
    "list like slicing operation as shown above. Also the entire list can be made empty. \n",
    "And another interesting fact is this we can delete the entire variable also, when del list_5 is executed, we see that list_5 is not defined, which \n",
    "means that the variable list_5 does not exist."
   ]
  }
 ],
 "metadata": {
  "kernelspec": {
   "display_name": "Python 3 (ipykernel)",
   "language": "python",
   "name": "python3"
  },
  "language_info": {
   "codemirror_mode": {
    "name": "ipython",
    "version": 3
   },
   "file_extension": ".py",
   "mimetype": "text/x-python",
   "name": "python",
   "nbconvert_exporter": "python",
   "pygments_lexer": "ipython3",
   "version": "3.11.10"
  }
 },
 "nbformat": 4,
 "nbformat_minor": 5
}
