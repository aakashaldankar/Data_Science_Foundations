{
 "cells": [
  {
   "cell_type": "markdown",
   "id": "bc793c38-a2a6-4c4d-a69e-2d997ded6c0b",
   "metadata": {},
   "source": [
    "SET PROPERTIES\n",
    "1. UNORDERED\n",
    "2. MUTABLE\n",
    "3. ITERABLE\n",
    "4. SET\n",
    "\n",
    "Set can contain string, boolean, tuple, float, int. "
   ]
  },
  {
   "cell_type": "code",
   "execution_count": 3,
   "id": "0a179222-17da-4683-b3e0-7bfda407e010",
   "metadata": {},
   "outputs": [
    {
     "data": {
      "text/plain": [
       "set"
      ]
     },
     "execution_count": 3,
     "metadata": {},
     "output_type": "execute_result"
    }
   ],
   "source": [
    "set1={1,2,3,4,'awari',0,100}\n",
    "\n",
    "type(set1)"
   ]
  },
  {
   "cell_type": "markdown",
   "id": "7066c295-b1d9-4a1b-b04e-ab7ada628043",
   "metadata": {},
   "source": [
    "Set can be defined as mentioned."
   ]
  },
  {
   "cell_type": "code",
   "execution_count": 6,
   "id": "f713b50b-fa25-42a0-99a4-94427a5b722e",
   "metadata": {},
   "outputs": [
    {
     "data": {
      "text/plain": [
       "set"
      ]
     },
     "execution_count": 6,
     "metadata": {},
     "output_type": "execute_result"
    }
   ],
   "source": [
    "set2=set()\n",
    "\n",
    "type(set2)"
   ]
  },
  {
   "cell_type": "code",
   "execution_count": 8,
   "id": "e841d3f7-e3fb-451c-8dc9-1bdc89089ddd",
   "metadata": {},
   "outputs": [
    {
     "data": {
      "text/plain": [
       "{100, 2, 4, 6, 8, 'ash'}"
      ]
     },
     "execution_count": 8,
     "metadata": {},
     "output_type": "execute_result"
    }
   ],
   "source": [
    "set3={4,2,6,8,'ash',100}\n",
    "set3"
   ]
  },
  {
   "cell_type": "code",
   "execution_count": 10,
   "id": "b99c553f-1f31-438e-9e95-604309ad7e98",
   "metadata": {},
   "outputs": [
    {
     "data": {
      "text/plain": [
       "{0, 100, 2, 4, 6, 8, 'ash'}"
      ]
     },
     "execution_count": 10,
     "metadata": {},
     "output_type": "execute_result"
    }
   ],
   "source": [
    "# add method\n",
    "\n",
    "set3.add(0)\n",
    "set3"
   ]
  },
  {
   "cell_type": "markdown",
   "id": "aa218237-2e9f-4d49-8ceb-4bddc5e3ef8c",
   "metadata": {},
   "source": [
    "add method inserts a value to any selected random integer. "
   ]
  },
  {
   "cell_type": "code",
   "execution_count": 13,
   "id": "526a7808-0771-4c9f-b14f-bfda9ebeb23a",
   "metadata": {},
   "outputs": [
    {
     "data": {
      "text/plain": [
       "{100, 2, 4, 6, 8, 'ash'}"
      ]
     },
     "execution_count": 13,
     "metadata": {},
     "output_type": "execute_result"
    }
   ],
   "source": [
    "# pop method\n",
    "\n",
    "set3.pop()\n",
    "set3"
   ]
  },
  {
   "cell_type": "markdown",
   "id": "e893a581-e8b4-4cdf-b306-34058cf1b76e",
   "metadata": {},
   "source": [
    "pop method remove any random value from a set."
   ]
  },
  {
   "cell_type": "code",
   "execution_count": 16,
   "id": "e08e9780-5bdf-4546-833d-3fab2e326ced",
   "metadata": {},
   "outputs": [
    {
     "data": {
      "text/plain": [
       "{100, 2, 4, 8, 'ash'}"
      ]
     },
     "execution_count": 16,
     "metadata": {},
     "output_type": "execute_result"
    }
   ],
   "source": [
    "# remove method\n",
    "\n",
    "set3.remove(6)\n",
    "set3"
   ]
  },
  {
   "cell_type": "markdown",
   "id": "8ba873f8-f0f2-4687-8deb-c2bacba450ef",
   "metadata": {},
   "source": [
    "remove method removes that particular value, given as argument."
   ]
  },
  {
   "cell_type": "code",
   "execution_count": 19,
   "id": "55c6fcf5-df65-445f-b856-d11262238d49",
   "metadata": {},
   "outputs": [
    {
     "data": {
      "text/plain": [
       "{100, 2, 4, 7, 8, 'ash'}"
      ]
     },
     "execution_count": 19,
     "metadata": {},
     "output_type": "execute_result"
    }
   ],
   "source": [
    "# update method\n",
    "\n",
    "set3.update([4,7])\n",
    "set3"
   ]
  },
  {
   "cell_type": "markdown",
   "id": "8954d309-0d99-4ab1-ac34-d8c4f2559fc4",
   "metadata": {},
   "source": [
    "update method is used to add data values from a literal data structure. "
   ]
  },
  {
   "cell_type": "code",
   "execution_count": 22,
   "id": "678fef96-2b8b-468e-8391-3aa4be2438cb",
   "metadata": {},
   "outputs": [
    {
     "data": {
      "text/plain": [
       "{100, 2, 4, 8, 'ash'}"
      ]
     },
     "execution_count": 22,
     "metadata": {},
     "output_type": "execute_result"
    }
   ],
   "source": [
    "# discard method \n",
    "\n",
    "set3.discard(7)\n",
    "set3"
   ]
  },
  {
   "cell_type": "markdown",
   "id": "903aa597-1148-47f8-9a9d-a85112a4c3e7",
   "metadata": {},
   "source": [
    "The difference between remove and discard is, discard will not throw an error if that particular data value is not there, whereas remove will throw an error."
   ]
  },
  {
   "cell_type": "code",
   "execution_count": 25,
   "id": "1f5c31f7-2cd8-4161-98c4-a8b89bdf19e4",
   "metadata": {},
   "outputs": [
    {
     "data": {
      "text/plain": [
       "{0, 1, 100, 2, 3, 4, 8, 'ash', 'awari'}"
      ]
     },
     "execution_count": 25,
     "metadata": {},
     "output_type": "execute_result"
    }
   ],
   "source": [
    "# union method\n",
    "\n",
    "union=set1.union(set3)\n",
    "union"
   ]
  },
  {
   "cell_type": "code",
   "execution_count": 27,
   "id": "a435e9d6-59e5-467c-b1d5-0f14bdb4a3ee",
   "metadata": {},
   "outputs": [
    {
     "data": {
      "text/plain": [
       "{0, 1, 3, 'awari'}"
      ]
     },
     "execution_count": 27,
     "metadata": {},
     "output_type": "execute_result"
    }
   ],
   "source": [
    "# difference method\n",
    "\n",
    "setd=set1.difference(set3)\n",
    "setd"
   ]
  },
  {
   "cell_type": "markdown",
   "id": "ec8990f8-93f4-42b3-9139-1e707596dbe0",
   "metadata": {},
   "source": [
    "difference method implements set1-set3 operation and results a new set.\n",
    "\n",
    "setd = set1-set3 will also give same result.\n",
    "\n",
    "setd = set1.difference(set2,set3)\n",
    "will perform set1-set2-set3 operation\n",
    "\n",
    "to perform set1 = set1-set3 :  set1.difference_update(set3)"
   ]
  },
  {
   "cell_type": "code",
   "execution_count": 30,
   "id": "6b96d2ec-b67e-45c5-803e-8c05ce86bb04",
   "metadata": {},
   "outputs": [
    {
     "data": {
      "text/plain": [
       "{2, 4, 100}"
      ]
     },
     "execution_count": 30,
     "metadata": {},
     "output_type": "execute_result"
    }
   ],
   "source": [
    "# intersection method\n",
    "\n",
    "seti=set1.intersection(set3)\n",
    "seti"
   ]
  },
  {
   "cell_type": "markdown",
   "id": "50dffffc-751c-44b9-8f2b-0e86d8992e8b",
   "metadata": {},
   "source": [
    "intersection method returns a set, intersection of set1 and set3.\n",
    "\n",
    "to perform set1 = set1(intersection)set3 : set1.intersection_update(set3)"
   ]
  },
  {
   "cell_type": "code",
   "execution_count": 33,
   "id": "73f8592a-8a77-4dc6-b5bf-83423caa7b74",
   "metadata": {},
   "outputs": [
    {
     "data": {
      "text/plain": [
       "False"
      ]
     },
     "execution_count": 33,
     "metadata": {},
     "output_type": "execute_result"
    }
   ],
   "source": [
    "# disjoint method\n",
    "\n",
    "set1.isdisjoint(set3)"
   ]
  },
  {
   "cell_type": "markdown",
   "id": "b7a6a88f-d556-4a78-9593-bff292bbe884",
   "metadata": {},
   "source": [
    "Disjoint sets are those sets which have no intersection between them.\n",
    "So the above two sets are not disjont set, as they do have an intersection set having some items in it."
   ]
  },
  {
   "cell_type": "code",
   "execution_count": 36,
   "id": "77834fcb-b2bb-476b-85f8-10f67ca7bbc4",
   "metadata": {},
   "outputs": [
    {
     "data": {
      "text/plain": [
       "False"
      ]
     },
     "execution_count": 36,
     "metadata": {},
     "output_type": "execute_result"
    }
   ],
   "source": [
    "# subset method\n",
    "\n",
    "set1.issubset(set3)"
   ]
  },
  {
   "cell_type": "markdown",
   "id": "bbe3e6ff-e4be-4411-9699-6c294eb5672b",
   "metadata": {},
   "source": [
    "issubset method checks whether set1 is a subset of set2, and if yes then returns True or else False."
   ]
  },
  {
   "cell_type": "code",
   "execution_count": 39,
   "id": "b07ba714-76a9-4b0f-a16f-659a87b5a806",
   "metadata": {},
   "outputs": [
    {
     "data": {
      "text/plain": [
       "False"
      ]
     },
     "execution_count": 39,
     "metadata": {},
     "output_type": "execute_result"
    }
   ],
   "source": [
    "# superset method\n",
    "\n",
    "set1.issuperset(set3)"
   ]
  },
  {
   "cell_type": "markdown",
   "id": "d51cdf7f-6a2f-4dfb-9b7f-f60e760fd5ae",
   "metadata": {},
   "source": [
    "superset method checks whether set1>=set3, if satisfied then returns True or else False."
   ]
  },
  {
   "cell_type": "code",
   "execution_count": 42,
   "id": "80e54216-0e80-4d60-8aa7-514e7b4ba4c5",
   "metadata": {},
   "outputs": [
    {
     "data": {
      "text/plain": [
       "{0, 1, 3, 8, 'ash', 'awari'}"
      ]
     },
     "execution_count": 42,
     "metadata": {},
     "output_type": "execute_result"
    }
   ],
   "source": [
    "# symmetric difference \n",
    "\n",
    "set8=set1.symmetric_difference(set3)\n",
    "set8"
   ]
  },
  {
   "cell_type": "markdown",
   "id": "e85d530f-0ea5-4220-bbc0-cfdc7b8f7779",
   "metadata": {},
   "source": [
    "The set which contains the elements which are either in set 1 or in set 3 but not in both is called the symmetric difference between two given sets.\n",
    "\n",
    "To perform set1 = set1 ⊝ set3 : set1=set1.symmetric_difference_update(set3)"
   ]
  },
  {
   "cell_type": "code",
   "execution_count": 45,
   "id": "7fbbd1ba-a0cc-4bb6-83f1-8c514715f77d",
   "metadata": {},
   "outputs": [
    {
     "data": {
      "text/plain": [
       "set()"
      ]
     },
     "execution_count": 45,
     "metadata": {},
     "output_type": "execute_result"
    }
   ],
   "source": [
    "# clear \n",
    "\n",
    "set1.clear()\n",
    "\n",
    "set1"
   ]
  },
  {
   "cell_type": "markdown",
   "id": "80d84f99-dc44-42d7-a112-1f0bd089ba41",
   "metadata": {},
   "source": [
    "clear method empties the given set."
   ]
  },
  {
   "cell_type": "code",
   "execution_count": null,
   "id": "9af5f674-9b52-40ed-adb1-bc9287c256d5",
   "metadata": {},
   "outputs": [],
   "source": []
  },
  {
   "cell_type": "markdown",
   "id": "b7c75068-5b70-44ef-a2b1-84ab70c1c804",
   "metadata": {},
   "source": [
    "SET COMPREHENSION"
   ]
  },
  {
   "cell_type": "code",
   "execution_count": 50,
   "id": "23e92280-faa4-4563-bda9-2f809a13c5e9",
   "metadata": {},
   "outputs": [
    {
     "data": {
      "text/plain": [
       "{0, 2, 4, 6}"
      ]
     },
     "execution_count": 50,
     "metadata": {},
     "output_type": "execute_result"
    }
   ],
   "source": [
    "setc= {x for x in range(8) if x%2==0}\n",
    "\n",
    "setc"
   ]
  }
 ],
 "metadata": {
  "kernelspec": {
   "display_name": "Python 3 (ipykernel)",
   "language": "python",
   "name": "python3"
  },
  "language_info": {
   "codemirror_mode": {
    "name": "ipython",
    "version": 3
   },
   "file_extension": ".py",
   "mimetype": "text/x-python",
   "name": "python",
   "nbconvert_exporter": "python",
   "pygments_lexer": "ipython3",
   "version": "3.11.10"
  }
 },
 "nbformat": 4,
 "nbformat_minor": 5
}
